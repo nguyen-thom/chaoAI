{
 "cells": [
  {
   "cell_type": "markdown",
   "metadata": {},
   "source": [
    "# Google Colab Notebook\n",
    "\n",
    "Đây là một notebook mẫu để chạy trên Google Colab.\n",
    "\n",
    "## Cài đặt thư viện cần thiết\n"
   ]
  },
  {
   "cell_type": "code",
   "execution_count": null,
   "metadata": {},
   "outputs": [],
   "source": [
    "# Cài đặt thư viện nếu cần\n",
    "!pip install numpy pandas matplotlib"
   ]
  },
  {
   "cell_type": "markdown",
   "metadata": {},
   "source": [
    "## Chạy thử mã Python\n"
   ]
  },
  {
   "cell_type": "code",
   "execution_count": null,
   "metadata": {},
   "outputs": [],
   "source": [
    "import numpy as np\n",
    "import pandas as pd\n",
    "import matplotlib.pyplot as plt\n",
    "\n",
    "# Tạo mảng ngẫu nhiên\n",
    "data = np.random.randn(100)\n",
    "\n",
    "# Vẽ histogram\n",
    "plt.hist(data, bins=10, alpha=0.7, color='blue')\n",
    "plt.title('Biểu đồ Histogram')\n",
    "plt.show()"
   ]
  }
 ],
 "metadata": {
  "colab": {
   "name": "colab_notebook.ipynb"
  }
 },
 "nbformat": 4,
 "nbformat_minor": 2
}
